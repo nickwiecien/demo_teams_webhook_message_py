{
 "cells": [
  {
   "cell_type": "code",
   "execution_count": 33,
   "metadata": {},
   "outputs": [
    {
     "name": "stdout",
     "output_type": "stream",
     "text": [
      "<Response [200]>\n"
     ]
    }
   ],
   "source": [
    "#Add Webhook to Teams Channel\n",
    "#https://docs.microsoft.com/en-us/microsoftteams/platform/webhooks-and-connectors/how-to/add-incoming-webhook\n",
    "\n",
    "#Send Message to Webhook\n",
    "#https://docs.microsoft.com/en-us/microsoftteams/platform/webhooks-and-connectors/how-to/connectors-using\n",
    "\n",
    "#Message card design reference\n",
    "#https://docs.microsoft.com/en-us/microsoftteams/platform/task-modules-and-cards/cards/cards-reference#office-365-connector-card\n",
    "\n",
    "import requests\n",
    "import json\n",
    "import os\n",
    "\n",
    "url = os.environ['TEAMS_WEBHOOK_URL'] #URL for configured Teams Channel webhook\n",
    "\n",
    "message = {\n",
    "    \"@type\": \"MessageCard\",\n",
    "    \"@context\": \"http://schema.org/extensions\",\n",
    "    \"themeColor\": \"0076D7\",\n",
    "    \"summary\": \"Model Training Pipeline Failure Alert\",\n",
    "    \"sections\": [{\n",
    "        \"activityTitle\": \"![TestImage](https://47a92947.ngrok.io/Content/Images/default.png)Model Training Pipeline Failure\",\n",
    "        \"activitySubtitle\": \"Subtitle\",\n",
    "        \"facts\": [{\n",
    "            \"name\": \"Training Job\",\n",
    "            \"value\": \"&lt;training-job-id&gt;\"\n",
    "        }, {\n",
    "            \"name\": \"Exception\",\n",
    "            \"value\": \"Exception Text\"\n",
    "        }],\n",
    "        \"markdown\": True\n",
    "    }]\n",
    "}\n",
    "\n",
    "r = requests.post(url, json.dumps(message))\n",
    "print(r)"
   ]
  }
 ],
 "metadata": {
  "kernelspec": {
   "display_name": "Python 3",
   "language": "python",
   "name": "python3"
  },
  "language_info": {
   "codemirror_mode": {
    "name": "ipython",
    "version": 3
   },
   "file_extension": ".py",
   "mimetype": "text/x-python",
   "name": "python",
   "nbconvert_exporter": "python",
   "pygments_lexer": "ipython3",
   "version": "3.7.7"
  }
 },
 "nbformat": 4,
 "nbformat_minor": 4
}